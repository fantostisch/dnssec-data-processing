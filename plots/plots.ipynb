{
 "cells": [
  {
   "cell_type": "code",
   "execution_count": null,
   "metadata": {},
   "outputs": [],
   "source": [
    "%use lets-plot\n",
    "%use plotly\n",
    "import kotlinx.coroutines.*\n",
    "\n",
    "val data = runBlocking { readAllUData(\"./log.anon\") }"
   ]
  },
  {
   "cell_type": "code",
   "execution_count": null,
   "metadata": {},
   "outputs": [],
   "source": [
    "val queryPerSecond = mutableListOf<Pair<UInt, List<UData>>>()\n",
    "var current = mutableListOf<UData>()\n",
    "var currentTime = data.first().unixTimeStamp\n",
    "data.forEach { u ->\n",
    "    if (u.unixTimeStamp == currentTime) {\n",
    "        current.add(u)\n",
    "    } else {\n",
    "        queryPerSecond.add(Pair(currentTime, current))\n",
    "        for (i in (currentTime + 1u)..(u.unixTimeStamp - 1u)) {\n",
    "            // Empty list to add 0 values\n",
    "            queryPerSecond.add(Pair(i, listOf()))\n",
    "        }\n",
    "        current = mutableListOf(u)\n",
    "        currentTime = u.unixTimeStamp\n",
    "    }\n",
    "}\n",
    "\n",
    "val amountOfSecondsWithoutValidations =\n",
    "    queryPerSecond.last().first - queryPerSecond.first().first - (queryPerSecond.size.toUInt() - 1u)\n",
    "if (amountOfSecondsWithoutValidations != 0u) {\n",
    "    println(\"Error: $amountOfSecondsWithoutValidations seconds without validations.\")\n",
    "}"
   ]
  },
  {
   "cell_type": "code",
   "execution_count": null,
   "metadata": {},
   "outputs": [],
   "source": [
    "import java.time.Instant\n",
    "import java.time.OffsetDateTime\n",
    "import java.time.ZoneOffset\n",
    "import kotlin.system.exitProcess\n",
    "\n",
    "val times = queryPerSecond.map { t ->\n",
    "    val time = t.first.toLong()\n",
    "    Instant.ofEpochSecond(time)\n",
    "}\n",
    "val amount = queryPerSecond.map { t -> t.second.size }\n",
    "\n",
    "val plotTime = mapOf<String, List<Any>>(\n",
    "    \"time\" to times,\n",
    "    \"values\" to amount\n",
    ")\n",
    "\n",
    "val plot = ggplot(plotTime) +\n",
    "        geomLine { x = \"time\"; y = \"values\" } +\n",
    "        ggtitle(\"Amount of validations over time\") +\n",
    "        ggsize(4000, 500)\n",
    "plot.show()"
   ]
  },
  {
   "cell_type": "code",
   "execution_count": null,
   "metadata": {},
   "outputs": [],
   "source": [
    "val timeString = times.map { t -> t.toString() }\n",
    "\n",
    "fun plotOverTime(y: List<Int>, title: String): Plot {\n",
    "    return Plotly.plot {\n",
    "        scatter {\n",
    "            x(*timeString.toTypedArray())\n",
    "            y(*y.toTypedArray())\n",
    "        }\n",
    "\n",
    "        layout {\n",
    "            title {\n",
    "                text = \"\\$\\\\text{$title}$\"\n",
    "            }\n",
    "        }\n",
    "    }\n",
    "}\n",
    "\n",
    "plotOverTime(amount, \"Amount of validations over time\")\n",
    "\n"
   ]
  },
  {
   "cell_type": "code",
   "execution_count": null,
   "metadata": {},
   "outputs": [],
   "source": [
    "val amountRootZone =\n",
    "    queryPerSecond.map { (time, data) -> Pair(time, data.filter { ud -> ud.domainName.size == 1 }) }\n",
    "        .map { t -> t.second.size }\n",
    "\n",
    "plotOverTime(amountRootZone, \"Amount of validations over time for root zone\")"
   ]
  },
  {
   "cell_type": "code",
   "execution_count": null,
   "metadata": {},
   "outputs": [],
   "source": [
    "val amountTLDs =\n",
    "    queryPerSecond.map { (time, data) -> Pair(time, data.filter { ud -> ud.domainName.size <= 2 }) }\n",
    "        .map { t -> t.second.size }\n",
    "\n",
    "plotOverTime(amountTLDs, \"Amount of validations over time for TLDs and root zone\")"
   ]
  }
 ],
 "metadata": {
  "kernelspec": {
   "display_name": "Kotlin",
   "language": "kotlin",
   "name": "kotlin"
  },
  "ktnbPluginMetadata": {
   "isBuildProject": true
  },
  "language_info": {
   "codemirror_mode": "text/x-kotlin",
   "file_extension": ".kt",
   "mimetype": "text/x-kotlin",
   "name": "kotlin",
   "nbconvert_exporter": "",
   "pygments_lexer": "kotlin",
   "version": "1.8.20"
  }
 },
 "nbformat": 4,
 "nbformat_minor": 0
}
