{
 "cells": [
  {
   "cell_type": "code",
   "execution_count": null,
   "metadata": {},
   "outputs": [],
   "source": [
    "%use plotly\n",
    "import kotlinx.coroutines.*\n",
    "import java.time.Duration\n",
    "import java.time.Instant\n",
    "\n",
    "val data = runBlocking { readAllUData(\"./data/log.anon\") + readAllUData(\"./data/log2.anon\") }"
   ]
  },
  {
   "cell_type": "code",
   "execution_count": null,
   "metadata": {
    "ExecuteTime": {
     "end_time": "2023-06-21T16:25:56.473422015Z",
     "start_time": "2023-06-21T16:25:52.675802233Z"
    }
   },
   "outputs": [],
   "source": [
    "fun add0WithinData(toFill: List<UData>): List<Pair<UInt, List<UData>>> {\n",
    "    val filledQueryPerSecond = mutableListOf<Pair<UInt, List<UData>>>()\n",
    "    var current = mutableListOf<UData>()\n",
    "    var currentTime = toFill.first().unixTimeStamp\n",
    "    toFill.forEach { u ->\n",
    "        if (u.unixTimeStamp == currentTime) {\n",
    "            current.add(u)\n",
    "        } else {\n",
    "            filledQueryPerSecond.add(Pair(currentTime, current))\n",
    "            val afterFirst = currentTime + 1u\n",
    "            val beforeLast = u.unixTimeStamp - 1u\n",
    "            if (afterFirst == beforeLast) {\n",
    "                filledQueryPerSecond.add(Pair(afterFirst, listOf()))\n",
    "            } else if (afterFirst < beforeLast) {\n",
    "                filledQueryPerSecond.add(Pair(afterFirst, listOf()))\n",
    "                filledQueryPerSecond.add(Pair(beforeLast, listOf()))\n",
    "            }\n",
    "            current = mutableListOf(u)\n",
    "            currentTime = u.unixTimeStamp\n",
    "        }\n",
    "    }\n",
    "    filledQueryPerSecond.add(Pair(currentTime, current))\n",
    "    return filledQueryPerSecond\n",
    "}\n",
    "\n",
    "val splitPerSuffix = data.groupBy { ud -> ud.domainName }.mapValues { (_, v) -> add0WithinData(v) }\n",
    "\n",
    "val queryPerSecond = add0WithinData(data)\n",
    "\n",
    "fun plotOverTime(\n",
    "    udata: Map<List<String>, List<Pair<UInt, List<UData>>>>,\n",
    "    title: String,\n",
    "    includeSub: Boolean = true\n",
    "): Plot {\n",
    "    val perSuffixTraces = udata.map { (suffix, v) ->\n",
    "        Trace() {\n",
    "            val values = v.map { (s, udl) -> Pair(s, udl.filter { ud -> includeSub || ud.sub == false }) }\n",
    "            name = suffix.joinToString(\".\")\n",
    "            x.strings = values.map { (t, _) ->\n",
    "                Instant.ofEpochSecond(t.toLong()).plus(Duration.ofHours(2)).toString() // Convert to CET\n",
    "            }\n",
    "            y.numbers = values.map { (_, udl) -> udl.size }\n",
    "            type = TraceType.scatter\n",
    "        }\n",
    "    }.sortedByDescending { t -> t.y.numbers.sumOf { n -> n.toInt() } }\n",
    "\n",
    "    return Plotly.plot {\n",
    "        traces(perSuffixTraces)\n",
    "        scatter {\n",
    "            line {\n",
    "                width = 1\n",
    "            }\n",
    "        }\n",
    "\n",
    "        layout {\n",
    "            width = 1700\n",
    "            height = 950\n",
    "            title {\n",
    "                text = \"$title\"\n",
    "            }\n",
    "            xaxis {\n",
    "                title {\n",
    "                    text = \"Time\"\n",
    "                }\n",
    "            }\n",
    "            yaxis {\n",
    "                title {\n",
    "                    text = \"Amount of validations per second\"\n",
    "                }\n",
    "            }\n",
    "        }\n",
    "    }\n",
    "}\n"
   ]
  },
  {
   "cell_type": "code",
   "execution_count": null,
   "metadata": {},
   "outputs": [],
   "source": [
    "plotOverTime(mapOf(Pair(listOf(\"all\"), queryPerSecond)), \"Amount of validations over time\")"
   ]
  },
  {
   "cell_type": "code",
   "execution_count": null,
   "metadata": {},
   "outputs": [],
   "source": [
    "val amountRootZone =\n",
    "    queryPerSecond.map { (time, data) -> Pair(time, data.filter { ud -> ud.domainName.size == 1 }) }\n",
    "\n",
    "plotOverTime(mapOf(Pair(listOf(), amountRootZone)), \"Amount of validations over time for root zone\")"
   ]
  },
  {
   "cell_type": "code",
   "execution_count": null,
   "metadata": {},
   "outputs": [],
   "source": [
    "val amountTLDs =\n",
    "    queryPerSecond.map { (time, data) -> Pair(time, data.filter { ud -> ud.domainName.size <= 2 }) }\n",
    "\n",
    "plotOverTime(\n",
    "    mapOf(Pair(listOf(\"TLDs and root zone\"), amountTLDs)),\n",
    "    \"Amount of validations over time for TLDs and root zone\",\n",
    "    false\n",
    ")"
   ]
  },
  {
   "cell_type": "code",
   "execution_count": null,
   "metadata": {},
   "outputs": [],
   "source": [
    "plotOverTime(splitPerSuffix, \"Amount of validations over time per suffix including subdomains\")"
   ]
  },
  {
   "cell_type": "code",
   "execution_count": null,
   "metadata": {},
   "outputs": [],
   "source": [
    "plotOverTime(\n",
    "    splitPerSuffix,\n",
    "    \"Amount of validations over time per suffix excluding subdomains\",\n",
    "    false\n",
    ")"
   ]
  },
  {
   "cell_type": "code",
   "execution_count": null,
   "metadata": {},
   "outputs": [],
   "source": []
  }
 ],
 "metadata": {
  "kernelspec": {
   "display_name": "Kotlin",
   "language": "kotlin",
   "name": "kotlin"
  },
  "ktnbPluginMetadata": {
   "isBuildProject": true
  },
  "language_info": {
   "codemirror_mode": "text/x-kotlin",
   "file_extension": ".kt",
   "mimetype": "text/x-kotlin",
   "name": "kotlin",
   "nbconvert_exporter": "",
   "pygments_lexer": "kotlin",
   "version": "1.8.20"
  }
 },
 "nbformat": 4,
 "nbformat_minor": 0
}
