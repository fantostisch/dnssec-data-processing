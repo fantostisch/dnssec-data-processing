{
 "cells": [
  {
   "cell_type": "code",
   "execution_count": null,
   "metadata": {},
   "outputs": [],
   "source": [
    "%use plotly\n",
    "import kotlinx.coroutines.*\n",
    "import java.time.Duration\n",
    "import java.time.Instant\n",
    "\n",
    "val data = runBlocking { readAllUData(\"./data/log.anon\") + readAllUData(\"./data/log2.anon\") }\n",
    "val cacheStats = parseQueryLoad(\"./data/Query-load.csv\") + parseQueryLoad(\"./data/Query-load2.csv\")"
   ]
  },
  {
   "cell_type": "code",
   "execution_count": null,
   "metadata": {
    "ExecuteTime": {
     "end_time": "2023-06-21T16:25:56.473422015Z",
     "start_time": "2023-06-21T16:25:52.675802233Z"
    }
   },
   "outputs": [],
   "source": [
    "fun add0WithinData(toFill: List<UData>): List<Pair<UInt, List<UData>>> {\n",
    "    val filledQueryPerSecond = mutableListOf<Pair<UInt, List<UData>>>()\n",
    "    var current = mutableListOf<UData>()\n",
    "    var currentTime = toFill.first().unixTimeStamp\n",
    "    toFill.forEach { u ->\n",
    "        if (u.unixTimeStamp == currentTime) {\n",
    "            current.add(u)\n",
    "        } else {\n",
    "            filledQueryPerSecond.add(Pair(currentTime, current))\n",
    "            val afterFirst = currentTime + 1u\n",
    "            val beforeLast = u.unixTimeStamp - 1u\n",
    "            if (afterFirst == beforeLast) {\n",
    "                filledQueryPerSecond.add(Pair(afterFirst, listOf()))\n",
    "            } else if (afterFirst < beforeLast) {\n",
    "                filledQueryPerSecond.add(Pair(afterFirst, listOf()))\n",
    "                filledQueryPerSecond.add(Pair(beforeLast, listOf()))\n",
    "            }\n",
    "            current = mutableListOf(u)\n",
    "            currentTime = u.unixTimeStamp\n",
    "        }\n",
    "    }\n",
    "    filledQueryPerSecond.add(Pair(currentTime, current))\n",
    "    return filledQueryPerSecond\n",
    "}\n",
    "\n",
    "val splitPerSuffix = data.groupBy { ud -> ud.domainName }.mapValues { (_, v) -> add0WithinData(v) }\n",
    "\n",
    "val queryPerSecond = add0WithinData(data)\n",
    "\n",
    "fun plotOverTime(\n",
    "    udata: Map<List<String>, List<Pair<UInt, List<UData>>>>,\n",
    "    title: String,\n",
    "    includeSub: Boolean = true,\n",
    "    cacheStats: List<CacheStat> = listOf(),\n",
    "): Plot {\n",
    "    val offset = Duration.ofHours(2)\n",
    "\n",
    "    val perSuffixTraces = udata.map { (suffix, v) ->\n",
    "        Scatter() {\n",
    "            val values = v.map { (s, udl) -> Pair(s, udl.filter { ud -> includeSub || ud.sub == false }) }\n",
    "            val yNumbers = values.map { (_, udl) -> udl.size }\n",
    "            name = suffix.joinToString(\".\")\n",
    "            x.strings = values.map { (t, _) ->\n",
    "                Instant.ofEpochSecond(t.toLong()).plus(offset).toString() // Convert to CET\n",
    "            }\n",
    "            y.numbers = yNumbers\n",
    "        }\n",
    "    }.sortedByDescending { t -> t.y.numbers.sumOf { n -> n.toInt() } }\n",
    "\n",
    "    val amountOfQueriesTrace = Scatter() {\n",
    "        name = \"Requests\"\n",
    "        x.strings = cacheStats.map { cs -> cs.time.toInstant().plus(offset).toString() }\n",
    "        y.numbers = cacheStats.map { cs -> (cs.cacheHits + cs.cacheMisses) }\n",
    "        yaxis = \"y2\"\n",
    "        marker {\n",
    "            color(\"rgba(44,160,44,1)\")\n",
    "        }\n",
    "    }\n",
    "\n",
    "    val cacheHitsTrace = Scatter() {\n",
    "        name = \"Cache hits\"\n",
    "        x.strings = cacheStats.map { cs -> cs.time.toInstant().plus(offset).toString() }\n",
    "        y.numbers = cacheStats.map { cs -> cs.cacheHits }\n",
    "        yaxis = \"y2\"\n",
    "    }\n",
    "\n",
    "    val cacheMisses = Scatter() {\n",
    "        name = \"Cache misses\"\n",
    "        x.strings = cacheStats.map { cs -> cs.time.toInstant().plus(offset).toString() }\n",
    "        y.numbers = cacheStats.map { cs -> cs.cacheMisses }\n",
    "        yaxis = \"y2\"\n",
    "    }\n",
    "\n",
    "    return Plotly.plot {\n",
    "        traces(\n",
    "            if (cacheStats.isEmpty()) {\n",
    "                perSuffixTraces\n",
    "            } else {\n",
    "                perSuffixTraces + amountOfQueriesTrace\n",
    "            }\n",
    "        )\n",
    "\n",
    "        layout {\n",
    "            width = 1700 * 0.5\n",
    "            height = 950 * 0.5\n",
    "            title {\n",
    "                text = \"$title\"\n",
    "            }\n",
    "            xaxis {\n",
    "                title {\n",
    "                    text = \"Time\"\n",
    "                }\n",
    "            }\n",
    "            if (cacheStats.isEmpty()) {\n",
    "                yaxis {\n",
    "                    title {\n",
    "                        text = \"Amount of validations per second\"\n",
    "                    }\n",
    "                    type = AxisType.linear\n",
    "                }\n",
    "            } else {\n",
    "                yaxis {\n",
    "                    title {\n",
    "                        text = \"Validations per second\"\n",
    "                    }\n",
    "                    color(\"rgba(31,119,180,1\")\n",
    "                    type = AxisType.linear\n",
    "                    overlaying = \"y2\"\n",
    "                }\n",
    "                yaxis(2, {\n",
    "                    title {\n",
    "                        text = \"Requests per second\"\n",
    "                    }\n",
    "                    side = AxisSide.right\n",
    "                    color(\"rgba(44,160,44,1)\")\n",
    "                })\n",
    "            }\n",
    "        }\n",
    "    }\n",
    "}"
   ]
  },
  {
   "cell_type": "code",
   "execution_count": null,
   "metadata": {
    "ExecuteTime": {
     "end_time": "2023-06-26T10:32:29.180040962Z",
     "start_time": "2023-06-26T10:32:07.979329522Z"
    }
   },
   "outputs": [],
   "source": [
    "plotOverTime(\n",
    "    mapOf(Pair(listOf(\"Validations\"), queryPerSecond)),\n",
    "    \"Amount of requests and signature validations over time\",\n",
    "    cacheStats = cacheStats\n",
    ").apply {\n",
    "    layout {\n",
    "        showlegend = false\n",
    "        legend {\n",
    "            traceorder = TraceOrder.reversed\n",
    "        }\n",
    "    }\n",
    "}"
   ]
  },
  {
   "cell_type": "code",
   "execution_count": null,
   "metadata": {
    "ExecuteTime": {
     "end_time": "2023-06-26T09:57:07.536552303Z",
     "start_time": "2023-06-26T09:57:06.984121305Z"
    }
   },
   "outputs": [],
   "source": [
    "plotOverTime(mapOf(Pair(listOf(\"all\"), queryPerSecond)), \"Amount of validations over time\")"
   ]
  },
  {
   "cell_type": "code",
   "execution_count": null,
   "metadata": {
    "ExecuteTime": {
     "end_time": "2023-06-26T09:57:13.396124768Z",
     "start_time": "2023-06-26T09:57:12.921673683Z"
    }
   },
   "outputs": [],
   "source": [
    "val amountRootZone =\n",
    "    queryPerSecond.map { (time, data) -> Pair(time, data.filter { ud -> ud.domainName.size == 1 }) }\n",
    "\n",
    "plotOverTime(mapOf(Pair(listOf(), amountRootZone)), \"Amount of validations over time for root zone\")"
   ]
  },
  {
   "cell_type": "code",
   "execution_count": null,
   "metadata": {},
   "outputs": [],
   "source": [
    "val amountTLDs =\n",
    "    queryPerSecond.map { (time, data) -> Pair(time, data.filter { ud -> ud.domainName.size <= 2 }) }\n",
    "\n",
    "plotOverTime(\n",
    "    mapOf(Pair(listOf(\"TLDs and root zone\"), amountTLDs)),\n",
    "    \"Amount of validations over time for TLDs and root zone\",\n",
    "    false\n",
    ")"
   ]
  },
  {
   "cell_type": "code",
   "execution_count": null,
   "metadata": {},
   "outputs": [],
   "source": [
    "plotOverTime(splitPerSuffix, \"Amount of validations over time per suffix including subdomains\")"
   ]
  },
  {
   "cell_type": "code",
   "execution_count": null,
   "metadata": {},
   "outputs": [],
   "source": [
    "plotOverTime(\n",
    "    splitPerSuffix,\n",
    "    \"Amount of validations over time per suffix excluding subdomains\",\n",
    "    false\n",
    ")"
   ]
  },
  {
   "cell_type": "code",
   "execution_count": null,
   "metadata": {},
   "outputs": [],
   "source": []
  }
 ],
 "metadata": {
  "kernelspec": {
   "display_name": "Kotlin",
   "language": "kotlin",
   "name": "kotlin"
  },
  "ktnbPluginMetadata": {
   "isBuildProject": true
  },
  "language_info": {
   "codemirror_mode": "text/x-kotlin",
   "file_extension": ".kt",
   "mimetype": "text/x-kotlin",
   "name": "kotlin",
   "nbconvert_exporter": "",
   "pygments_lexer": "kotlin",
   "version": "1.8.20"
  }
 },
 "nbformat": 4,
 "nbformat_minor": 0
}
