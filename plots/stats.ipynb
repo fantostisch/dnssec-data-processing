{
 "cells": [
  {
   "cell_type": "code",
   "execution_count": null,
   "metadata": {},
   "outputs": [],
   "source": [
    "%use plotly\n",
    "import kotlinx.coroutines.*\n",
    "import java.time.Duration\n",
    "import java.time.Instant\n",
    "\n",
    "val data = runBlocking { readAllUData(\"./log.anon\") + readAllUData(\"./log2.anon\") }"
   ]
  },
  {
   "cell_type": "code",
   "execution_count": null,
   "metadata": {},
   "outputs": [],
   "source": [
    "enum class SigningAlgorithm {\n",
    "    RSA, ECDSA_P_256, ECDSA_P_384, Ed25519, Ed448\n",
    "}\n",
    "\n",
    "fun plot(udata: List<UData>, title: String): Plot {\n",
    "    val splitByAlgo = udata.groupBy { ud ->\n",
    "        when (ud.algo.toInt()) {\n",
    "            5 -> SigningAlgorithm.RSA\n",
    "            7 -> SigningAlgorithm.RSA\n",
    "            8 -> SigningAlgorithm.RSA\n",
    "            10 -> SigningAlgorithm.RSA\n",
    "            13 -> SigningAlgorithm.ECDSA_P_256\n",
    "            14 -> SigningAlgorithm.ECDSA_P_384\n",
    "            15 -> SigningAlgorithm.Ed25519\n",
    "            16 -> SigningAlgorithm.Ed448\n",
    "            else -> throw NotImplementedError()\n",
    "        }\n",
    "    }.toList()\n",
    "    val total = udata.size\n",
    "    val percentages = splitByAlgo.map { (_, udl) -> udl.size }\n",
    "    val alogrithm = splitByAlgo.map { (alg, udl) ->\n",
    "        val percentage = udl.size.toDouble() / total * 100\n",
    "        val progressString = \"%.2f\".format(percentage)\n",
    "        val algName = when (alg) {\n",
    "            SigningAlgorithm.ECDSA_P_256 -> \"ECDSA P-256\"\n",
    "            SigningAlgorithm.ECDSA_P_384 -> \"ECDSA P-384\"\n",
    "            else -> alg.toString()\n",
    "        }\n",
    "        \"$algName: $progressString%\"\n",
    "    }\n",
    "\n",
    "    return Plotly.plot {\n",
    "        pie {\n",
    "            values(percentages)\n",
    "            labels(alogrithm)\n",
    "            textinfo = TextInfo.`label`\n",
    "        }\n",
    "        layout {\n",
    "            width = 500\n",
    "            height = 375\n",
    "            title {\n",
    "                text = title\n",
    "            }\n",
    "        }\n",
    "    }\n",
    "}"
   ]
  },
  {
   "cell_type": "code",
   "execution_count": null,
   "metadata": {},
   "outputs": [],
   "source": [
    "plot(data, \"Percentage of validations per signing algorithm\")"
   ]
  },
  {
   "cell_type": "code",
   "execution_count": null,
   "metadata": {},
   "outputs": [],
   "source": [
    "plot(\n",
    "    data.filter { u -> u.domainName.size <= 2 && u.sub == false },\n",
    "    \"Percentage of validations per algorithm for root zone and TLDs\"\n",
    ")"
   ]
  },
  {
   "cell_type": "code",
   "execution_count": null,
   "metadata": {},
   "outputs": [],
   "source": [
    "plot(\n",
    "    data.filter { u -> u.domainName.size <= 2 && u.sub == false }.distinctBy { u -> Pair(u.domainName, u.algo) },\n",
    "    \"Percentage of validations per algorithm for root zone and TLDs without duplicate algorithm and subdomain\"\n",
    ")"
   ]
  },
  {
   "cell_type": "code",
   "execution_count": null,
   "metadata": {},
   "outputs": [],
   "source": [
    "plot(\n",
    "    data.filter { u -> u.sub == true },\n",
    "    \"Percentage of validations per algorithm for subdomains of prefixes\"\n",
    ")"
   ]
  }
 ],
 "metadata": {
  "kernelspec": {
   "display_name": "Kotlin",
   "language": "kotlin",
   "name": "kotlin"
  },
  "ktnbPluginMetadata": {
   "isBuildProject": true
  },
  "language_info": {
   "codemirror_mode": "text/x-kotlin",
   "file_extension": ".kt",
   "mimetype": "text/x-kotlin",
   "name": "kotlin",
   "nbconvert_exporter": "",
   "pygments_lexer": "kotlin",
   "version": "1.8.20"
  }
 },
 "nbformat": 4,
 "nbformat_minor": 0
}
