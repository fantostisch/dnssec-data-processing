{
 "cells": [
  {
   "cell_type": "code",
   "execution_count": null,
   "metadata": {},
   "outputs": [],
   "source": [
    "%use plotly\n",
    "import kotlinx.coroutines.*\n",
    "import java.time.Duration\n",
    "import java.time.Instant\n",
    "\n",
    "val data = runBlocking { readAllUData(\"./data/log.anon\") + readAllUData(\"./data/log2.anon\") }"
   ]
  },
  {
   "cell_type": "code",
   "execution_count": null,
   "metadata": {},
   "outputs": [],
   "source": [
    "fun plot(udata: List<UData>, title: String): Plot {\n",
    "    val splitByAlgo = udata.groupBy { ud ->\n",
    "        toSigningAlgorithm(ud.algo)\n",
    "    }.toList()\n",
    "    val total = udata.size\n",
    "    val percentages = splitByAlgo.map { (_, udl) -> udl.size }\n",
    "    val alogrithm = splitByAlgo.map { (alg, udl) ->\n",
    "        val percentage = udl.size.toDouble() / total * 100\n",
    "        val progressString = \"%.2f\".format(percentage)\n",
    "        val algName = when (alg) {\n",
    "            SigningAlgorithm.ECDSA_P_256 -> \"ECDSA P-256\"\n",
    "            SigningAlgorithm.ECDSA_P_384 -> \"ECDSA P-384\"\n",
    "            else -> alg.toString()\n",
    "        }\n",
    "        \"$algName: $progressString%\"\n",
    "    }\n",
    "\n",
    "    return Plotly.plot {\n",
    "        pie {\n",
    "            values(percentages)\n",
    "            labels(alogrithm)\n",
    "            textinfo = TextInfo.`label`\n",
    "        }\n",
    "        layout {\n",
    "            width = 500\n",
    "            height = 375\n",
    "            title {\n",
    "                text = title\n",
    "            }\n",
    "        }\n",
    "    }\n",
    "}"
   ]
  },
  {
   "cell_type": "code",
   "execution_count": null,
   "metadata": {},
   "outputs": [],
   "source": [
    "plot(data, \"Percentage of validations per signing algorithm\")"
   ]
  },
  {
   "cell_type": "code",
   "execution_count": null,
   "metadata": {},
   "outputs": [],
   "source": [
    "plot(\n",
    "    data.filter { u -> u.domainName.size <= 2 && u.sub == false },\n",
    "    \"Percentage of validations per algorithm for root zone and TLDs\"\n",
    ")"
   ]
  },
  {
   "cell_type": "code",
   "execution_count": null,
   "metadata": {},
   "outputs": [],
   "source": [
    "plot(\n",
    "    data.filter { u -> u.domainName.size <= 2 && u.sub == false }.distinctBy { u -> Pair(u.domainName, u.algo) },\n",
    "    \"Percentage of validations per algorithm for root zone and TLDs without duplicate algorithm and subdomain\"\n",
    ")"
   ]
  },
  {
   "cell_type": "code",
   "execution_count": null,
   "metadata": {},
   "outputs": [],
   "source": [
    "plot(\n",
    "    data.filter { u -> u.sub == true },\n",
    "    \"Percentage of validations per algorithm for subdomains of prefixes\"\n",
    ")"
   ]
  },
  {
   "cell_type": "code",
   "execution_count": null,
   "metadata": {},
   "outputs": [],
   "source": [
    "val splitPerTLD =\n",
    "    data.groupBy { ud -> ud.domainName.dropLast(1).lastOrNull() }.mapValues { (_, v) -> v.size }.toList()\n",
    "        .sortedByDescending { (_, v) -> v }\n",
    "\n",
    "val topAmount = 5\n",
    "val top = splitPerTLD.take(topAmount)\n",
    "val other = splitPerTLD.drop(topAmount).map { (k, v) -> v }.sum()\n",
    "\n",
    "Plotly.plot {\n",
    "    pie {\n",
    "        values(top.map { (_, v) -> v } + other)\n",
    "        labels(top.map { (tld, _) ->\n",
    "            if (tld == null) {\n",
    "                \"root\"\n",
    "            } else {\n",
    "                tld\n",
    "            }\n",
    "        } + \"other\")\n",
    "        textinfo = TextInfo.`label+text+percent`\n",
    "    }\n",
    "    layout {\n",
    "        title = \"Percentage of validations for TLDs and root zone including subdomains\"\n",
    "        width = 500\n",
    "        height = 375\n",
    "    }\n",
    "}"
   ]
  }
 ],
 "metadata": {
  "kernelspec": {
   "display_name": "Kotlin",
   "language": "kotlin",
   "name": "kotlin"
  },
  "ktnbPluginMetadata": {
   "isBuildProject": true
  },
  "language_info": {
   "codemirror_mode": "text/x-kotlin",
   "file_extension": ".kt",
   "mimetype": "text/x-kotlin",
   "name": "kotlin",
   "nbconvert_exporter": "",
   "pygments_lexer": "kotlin",
   "version": "1.8.20"
  }
 },
 "nbformat": 4,
 "nbformat_minor": 0
}
